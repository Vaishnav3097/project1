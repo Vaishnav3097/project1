{
 "cells": [
  {
   "cell_type": "code",
   "execution_count": 0,
   "metadata": {
    "application/vnd.databricks.v1+cell": {
     "cellMetadata": {
      "byteLimit": 2048000,
      "rowLimit": 10000
     },
     "inputWidgets": {},
     "nuid": "9f8408d2-9f08-4536-a855-d57fa2677b6a",
     "showTitle": false,
     "tableResultSettingsMap": {},
     "title": ""
    }
   },
   "outputs": [],
   "source": [
    "from delta.tables import *\n",
    "\n",
    "source_table='incremental_load.orders_data_schema.orders_stage'\n",
    "target_table='incremental_load.orders_data_schema.orders_load'"
   ]
  },
  {
   "cell_type": "code",
   "execution_count": 0,
   "metadata": {
    "application/vnd.databricks.v1+cell": {
     "cellMetadata": {
      "byteLimit": 2048000,
      "rowLimit": 10000
     },
     "inputWidgets": {},
     "nuid": "b7d1e4d9-7a60-468a-89b2-f02ca079694d",
     "showTitle": false,
     "tableResultSettingsMap": {},
     "title": ""
    }
   },
   "outputs": [],
   "source": [
    "stage_df=spark.read.table(source_table)\n",
    "print('read')\n",
    "stage_df.show()"
   ]
  },
  {
   "cell_type": "code",
   "execution_count": 0,
   "metadata": {
    "application/vnd.databricks.v1+cell": {
     "cellMetadata": {
      "byteLimit": 2048000,
      "rowLimit": 10000
     },
     "inputWidgets": {},
     "nuid": "b5639f18-66c9-42b1-a215-33d108146624",
     "showTitle": false,
     "tableResultSettingsMap": {},
     "title": ""
    }
   },
   "outputs": [],
   "source": [
    "if not spark.catalog.tableExists(target_table):\n",
    "    stage_df.write.format('delta').saveAsTable(target_table)\n",
    "else:\n",
    "    target_delta=DeltaTable.forName(spark,target_table)\n",
    "\n",
    "    join_cond='target.tracking_num==stage.tracking_num'\n",
    "\n",
    "    target_delta.alias('target').merge(stage_df.alias('stage'),join_cond)\\\n",
    "        .whenMatchedDelete()\\\n",
    "        .execute()\n",
    "\n",
    "    stage_df.write.format('delta').mode('append').saveAsTable(target_table)\n",
    "    print('written')\n"
   ]
  },
  {
   "cell_type": "code",
   "execution_count": 0,
   "metadata": {
    "application/vnd.databricks.v1+cell": {
     "cellMetadata": {},
     "inputWidgets": {},
     "nuid": "5a8098f0-cb7a-40e6-bb62-b65e57ca17c8",
     "showTitle": false,
     "tableResultSettingsMap": {},
     "title": ""
    }
   },
   "outputs": [],
   "source": []
  }
 ],
 "metadata": {
  "application/vnd.databricks.v1+notebook": {
   "computePreferences": null,
   "dashboards": [],
   "environmentMetadata": {
    "base_environment": "",
    "environment_version": "2"
   },
   "language": "python",
   "notebookMetadata": {
    "pythonIndentUnit": 4
   },
   "notebookName": "orders_data_table_load",
   "widgets": {}
  },
  "language_info": {
   "name": "python"
  }
 },
 "nbformat": 4,
 "nbformat_minor": 0
}
